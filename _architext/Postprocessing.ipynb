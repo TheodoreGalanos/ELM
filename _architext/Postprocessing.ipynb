{
 "cells": [
  {
   "cell_type": "code",
   "execution_count": 1,
   "id": "8e172e4c",
   "metadata": {
    "ExecuteTime": {
     "end_time": "2022-11-08T20:54:35.980886Z",
     "start_time": "2022-11-08T20:54:26.973305Z"
    }
   },
   "outputs": [
    {
     "name": "stderr",
     "output_type": "stream",
     "text": [
      "c:\\Users\\User\\miniconda3\\envs\\ldm\\lib\\site-packages\\tqdm\\auto.py:22: TqdmWarning: IProgress not found. Please update jupyter and ipywidgets. See https://ipywidgets.readthedocs.io/en/stable/user_install.html\n",
      "  from .autonotebook import tqdm as notebook_tqdm\n"
     ]
    }
   ],
   "source": [
    "from architext import *\n",
    "from visualization import *\n",
    "import pickle\n",
    "import matplotlib.pyplot as plt\n",
    "import numpy as np"
   ]
  },
  {
   "cell_type": "code",
   "execution_count": 64,
   "id": "c5719733",
   "metadata": {},
   "outputs": [
    {
     "data": {
      "text/plain": [
       "array([   0.,  100.,  200.,  300.,  400.,  500.,  600.,  700.,  800.,\n",
       "        900., 1000., 1100., 1200., 1300., 1400., 1500., 1600., 1700.,\n",
       "       1800., 1900.])"
      ]
     },
     "execution_count": 64,
     "metadata": {},
     "output_type": "execute_result"
    }
   ],
   "source": [
    "np.linspace(0,2000, 20 + 1)[0:-1]"
   ]
  },
  {
   "cell_type": "code",
   "execution_count": 57,
   "id": "4fc7f88b",
   "metadata": {},
   "outputs": [
    {
     "data": {
      "text/plain": [
       "array([   0,  100,  200,  300,  400,  500,  600,  700,  800,  900, 1000,\n",
       "       1100, 1200, 1300, 1400, 1500, 1600, 1700, 1800, 1900])"
      ]
     },
     "execution_count": 57,
     "metadata": {},
     "output_type": "execute_result"
    }
   ],
   "source": [
    "np.arange(0, 2000, 100)"
   ]
  },
  {
   "cell_type": "code",
   "execution_count": 2,
   "id": "462747a3",
   "metadata": {
    "ExecuteTime": {
     "end_time": "2022-11-08T20:57:47.263336Z",
     "start_time": "2022-11-08T20:57:47.193569Z"
    }
   },
   "outputs": [],
   "source": [
    "with open('results/result_2.pkl', 'rb') as f:\n",
    "    run = pickle.load(f)"
   ]
  },
  {
   "cell_type": "code",
   "execution_count": 3,
   "id": "b2418bee",
   "metadata": {
    "ExecuteTime": {
     "end_time": "2022-11-08T20:57:51.808049Z",
     "start_time": "2022-11-08T20:57:51.800076Z"
    }
   },
   "outputs": [],
   "source": [
    "prompts = prompts = np.loadtxt('prompts.txt', dtype=str, delimiter='\\n')\n",
    "prompts = ['[prompt] ' + prompt.rstrip() + ' [layout]' for prompt in prompts] \n",
    "config = {'seed': 42, }"
   ]
  },
  {
   "cell_type": "code",
   "execution_count": 4,
   "id": "d6fa4eca",
   "metadata": {
    "ExecuteTime": {
     "end_time": "2022-11-08T20:58:02.464861Z",
     "start_time": "2022-11-08T20:57:51.979698Z"
    }
   },
   "outputs": [
    {
     "name": "stdout",
     "output_type": "stream",
     "text": [
      "MAP of size: (20, 20) = 400\n"
     ]
    }
   ],
   "source": [
    "env = Architext(42, config, height=2.3, prompts=prompts)\n",
    "elites = MAPElites(env, n_bins=20)"
   ]
  },
  {
   "cell_type": "code",
   "execution_count": 5,
   "id": "5befcd83",
   "metadata": {
    "ExecuteTime": {
     "end_time": "2022-11-08T20:58:02.480188Z",
     "start_time": "2022-11-08T20:58:02.466854Z"
    }
   },
   "outputs": [],
   "source": [
    "elites.genomes = run[0]"
   ]
  },
  {
   "cell_type": "code",
   "execution_count": 54,
   "id": "e8fcc737",
   "metadata": {},
   "outputs": [
    {
     "data": {
      "text/plain": [
       "(array([295., 259.,  43.,  41.,  18.,   3.,   2.,   0.,   0.,   2.,   0.,\n",
       "          0.,   0.,   0.,   1.,   1.,   1.,   0.,   0.,   1.]),\n",
       " array([  43.38028169,  149.97183099,  256.56338028,  363.15492958,\n",
       "         469.74647887,  576.33802817,  682.92957746,  789.52112676,\n",
       "         896.11267606, 1002.70422535, 1109.29577465, 1215.88732394,\n",
       "        1322.47887324, 1429.07042254, 1535.66197183, 1642.25352113,\n",
       "        1748.84507042, 1855.43661972, 1962.02816901, 2068.61971831,\n",
       "        2175.21126761]),\n",
       " <BarContainer object of 20 artists>)"
      ]
     },
     "execution_count": 54,
     "metadata": {},
     "output_type": "execute_result"
    },
    {
     "data": {
      "image/png": "[encoded data removed]",
      "text/plain": [
       "<Figure size 640x480 with 1 Axes>"
      ]
     },
     "metadata": {},
     "output_type": "display_data"
    }
   ],
   "source": [
    "ap_areas = []\n",
    "for iy, ix in np.ndindex(elites.genomes.shape):\n",
    "    if(elites.genomes[iy, ix] !=0):\n",
    "        polygons = elites.genomes[iy, ix].get_polygons()\n",
    "        ap_areas.append([poly.area/14.2 for poly in polygons])\n",
    "    else:\n",
    "        pass\n",
    "flat_areas = [item for sublist in ap_areas for item in sublist if item<50000]\n",
    "plt.hist(np.array(flat_areas), bins=20)"
   ]
  },
  {
   "cell_type": "code",
   "execution_count": 8,
   "id": "38eef81e",
   "metadata": {},
   "outputs": [
    {
     "name": "stderr",
     "output_type": "stream",
     "text": [
      "e:\\CarperAI\\ELM\\_architext\\architext.py:204: ShapelyDeprecationWarning: Iteration over multi-part geometries is deprecated and will be removed in Shapely 2.0. Use the `geoms` property to access the constituent parts of a multi-part geometry.\n",
      "  mycoordslist = [list(x.exterior.coords) for x in small_poly]\n"
     ]
    }
   ],
   "source": [
    "for iy, ix in np.ndindex(elites.genomes.shape):\n",
    "    if(elites.genomes[iy, ix] !=0):\n",
    "        elites.genomes[iy, ix].get_image().save(f\"elite_{iy}-{ix}.png\")\n",
    "    else:\n",
    "        Image.new('RGB', (256, 256), color='white').save(f\"elite_{iy}-{ix}.png\")"
   ]
  },
  {
   "cell_type": "code",
   "execution_count": 9,
   "id": "2e581596",
   "metadata": {},
   "outputs": [],
   "source": [
    "# Create the empty image to populate the mosaic\n",
    "grid_img = Image.new('RGB', (5120, 5120), color='white')"
   ]
  },
  {
   "cell_type": "code",
   "execution_count": 10,
   "id": "3bd99c54",
   "metadata": {},
   "outputs": [],
   "source": [
    "# Generate all the map ids in each direction\n",
    "space_1 = space_2 = np.arange(0, 20, 1)"
   ]
  },
  {
   "cell_type": "code",
   "execution_count": 11,
   "id": "22dce2a5",
   "metadata": {},
   "outputs": [
    {
     "name": "stderr",
     "output_type": "stream",
     "text": [
      "C:\\Users\\User\\AppData\\Local\\Temp\\ipykernel_20124\\2432614481.py:10: DeprecationWarning: ROTATE_90 is deprecated and will be removed in Pillow 10 (2023-07-01). Use Transpose.ROTATE_90 instead.\n",
      "  grid_img = grid_img.transpose(Image.ROTATE_90)\n"
     ]
    }
   ],
   "source": [
    "import itertools\n",
    "from PIL import ImageOps\n",
    "for i, x in enumerate(itertools.product(space_1, space_2)):\n",
    "    row = x[0]\n",
    "    col = x[1]\n",
    "    img = Image.open('elite_{}-{}.png'.format(row, col))\n",
    "    img = ImageOps.expand(img,border=1,fill='black')\n",
    "    img = img.rotate(-90)\n",
    "    grid_img.paste(img, (col * 256, row * 256))#(col * width, row * height))\n",
    "grid_img = grid_img.transpose(Image.ROTATE_90)\n",
    "grid_img.save(\"mosaic_20by20.png\")"
   ]
  },
  {
   "cell_type": "code",
   "execution_count": 12,
   "id": "fea79817",
   "metadata": {},
   "outputs": [],
   "source": [
    "coverage = np.matrix.nonzero(elites.genomes)"
   ]
  },
  {
   "cell_type": "code",
   "execution_count": 15,
   "id": "314fbed0",
   "metadata": {},
   "outputs": [
    {
     "data": {
      "text/plain": [
       "0.35"
      ]
     },
     "execution_count": 15,
     "metadata": {},
     "output_type": "execute_result"
    }
   ],
   "source": [
    "len(coverage[0]) / (20*12)"
   ]
  },
  {
   "cell_type": "code",
   "execution_count": 2,
   "id": "082694fe",
   "metadata": {},
   "outputs": [],
   "source": [
    "import numpy as np"
   ]
  },
  {
   "cell_type": "code",
   "execution_count": null,
   "id": "15464663",
   "metadata": {},
   "outputs": [],
   "source": []
  }
 ],
 "metadata": {
  "kernelspec": {
   "display_name": "ldm",
   "language": "python",
   "name": "ldm"
  },
  "language_info": {
   "codemirror_mode": {
    "name": "ipython",
    "version": 3
   },
   "file_extension": ".py",
   "mimetype": "text/x-python",
   "name": "python",
   "nbconvert_exporter": "python",
   "pygments_lexer": "ipython3",
   "version": "3.8.5"
  },
  "toc": {
   "base_numbering": 1,
   "nav_menu": {},
   "number_sections": true,
   "sideBar": true,
   "skip_h1_title": false,
   "title_cell": "Table of Contents",
   "title_sidebar": "Contents",
   "toc_cell": false,
   "toc_position": {},
   "toc_section_display": true,
   "toc_window_display": false
  }
 },
 "nbformat": 4,
 "nbformat_minor": 5
}
